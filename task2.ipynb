{
 "cells": [
  {
   "cell_type": "code",
   "execution_count": 1,
   "id": "29b8e30b",
   "metadata": {},
   "outputs": [],
   "source": [
    "import numpy as np\n",
    "import os\n",
    "import pandas as pd\n",
    "import cv2"
   ]
  },
  {
   "cell_type": "code",
   "execution_count": 2,
   "id": "995bb396",
   "metadata": {},
   "outputs": [
    {
     "name": "stdout",
     "output_type": "stream",
     "text": [
      "cat\n",
      "data_labels.csv\n"
     ]
    }
   ],
   "source": [
    "folder = input()\n",
    "filename = input()\n",
    " \n",
    "\n",
    "\n",
    "folder_path = os.path.join(os.getcwd(), folder)\n",
    "file_path = os.path.join(os.getcwd(), filename)\n",
    "\n"
   ]
  },
  {
   "cell_type": "code",
   "execution_count": 3,
   "id": "fba2acea",
   "metadata": {},
   "outputs": [],
   "source": [
    "df = pd.read_csv(filename)"
   ]
  },
  {
   "cell_type": "code",
   "execution_count": 4,
   "id": "1491ed0f",
   "metadata": {},
   "outputs": [
    {
     "data": {
      "text/html": [
       "<div>\n",
       "<style scoped>\n",
       "    .dataframe tbody tr th:only-of-type {\n",
       "        vertical-align: middle;\n",
       "    }\n",
       "\n",
       "    .dataframe tbody tr th {\n",
       "        vertical-align: top;\n",
       "    }\n",
       "\n",
       "    .dataframe thead th {\n",
       "        text-align: right;\n",
       "    }\n",
       "</style>\n",
       "<table border=\"1\" class=\"dataframe\">\n",
       "  <thead>\n",
       "    <tr style=\"text-align: right;\">\n",
       "      <th></th>\n",
       "      <th>name</th>\n",
       "      <th>label</th>\n",
       "      <th>width</th>\n",
       "      <th>height</th>\n",
       "      <th>xmin</th>\n",
       "      <th>ymin</th>\n",
       "      <th>xmax</th>\n",
       "      <th>ymax</th>\n",
       "    </tr>\n",
       "  </thead>\n",
       "  <tbody>\n",
       "    <tr>\n",
       "      <th>0</th>\n",
       "      <td>cats_000.jpg</td>\n",
       "      <td>cat</td>\n",
       "      <td>474</td>\n",
       "      <td>632</td>\n",
       "      <td>103</td>\n",
       "      <td>72</td>\n",
       "      <td>436</td>\n",
       "      <td>603</td>\n",
       "    </tr>\n",
       "    <tr>\n",
       "      <th>1</th>\n",
       "      <td>cats_007.jpg</td>\n",
       "      <td>cat-1</td>\n",
       "      <td>474</td>\n",
       "      <td>266</td>\n",
       "      <td>301</td>\n",
       "      <td>37</td>\n",
       "      <td>460</td>\n",
       "      <td>265</td>\n",
       "    </tr>\n",
       "    <tr>\n",
       "      <th>2</th>\n",
       "      <td>cats_050.jpg</td>\n",
       "      <td>cat</td>\n",
       "      <td>474</td>\n",
       "      <td>237</td>\n",
       "      <td>157</td>\n",
       "      <td>40</td>\n",
       "      <td>314</td>\n",
       "      <td>205</td>\n",
       "    </tr>\n",
       "    <tr>\n",
       "      <th>3</th>\n",
       "      <td>cats_072.jpg</td>\n",
       "      <td>cat-2</td>\n",
       "      <td>474</td>\n",
       "      <td>266</td>\n",
       "      <td>187</td>\n",
       "      <td>1</td>\n",
       "      <td>474</td>\n",
       "      <td>266</td>\n",
       "    </tr>\n",
       "    <tr>\n",
       "      <th>4</th>\n",
       "      <td>cats_076.jpg</td>\n",
       "      <td>cat</td>\n",
       "      <td>474</td>\n",
       "      <td>474</td>\n",
       "      <td>12</td>\n",
       "      <td>6</td>\n",
       "      <td>244</td>\n",
       "      <td>462</td>\n",
       "    </tr>\n",
       "    <tr>\n",
       "      <th>5</th>\n",
       "      <td>cats_079.jpg</td>\n",
       "      <td>cat</td>\n",
       "      <td>474</td>\n",
       "      <td>266</td>\n",
       "      <td>78</td>\n",
       "      <td>1</td>\n",
       "      <td>474</td>\n",
       "      <td>266</td>\n",
       "    </tr>\n",
       "    <tr>\n",
       "      <th>6</th>\n",
       "      <td>cats_088.jpg</td>\n",
       "      <td>cat-3</td>\n",
       "      <td>474</td>\n",
       "      <td>266</td>\n",
       "      <td>129</td>\n",
       "      <td>1</td>\n",
       "      <td>385</td>\n",
       "      <td>266</td>\n",
       "    </tr>\n",
       "    <tr>\n",
       "      <th>7</th>\n",
       "      <td>cats_091.jpg</td>\n",
       "      <td>cat</td>\n",
       "      <td>474</td>\n",
       "      <td>316</td>\n",
       "      <td>156</td>\n",
       "      <td>13</td>\n",
       "      <td>328</td>\n",
       "      <td>316</td>\n",
       "    </tr>\n",
       "    <tr>\n",
       "      <th>8</th>\n",
       "      <td>cats_099.jpg</td>\n",
       "      <td>cat-4</td>\n",
       "      <td>474</td>\n",
       "      <td>237</td>\n",
       "      <td>226</td>\n",
       "      <td>1</td>\n",
       "      <td>395</td>\n",
       "      <td>237</td>\n",
       "    </tr>\n",
       "    <tr>\n",
       "      <th>9</th>\n",
       "      <td>cats_100.jpg</td>\n",
       "      <td>cat</td>\n",
       "      <td>474</td>\n",
       "      <td>266</td>\n",
       "      <td>40</td>\n",
       "      <td>1</td>\n",
       "      <td>420</td>\n",
       "      <td>266</td>\n",
       "    </tr>\n",
       "  </tbody>\n",
       "</table>\n",
       "</div>"
      ],
      "text/plain": [
       "           name  label  width  height  xmin  ymin  xmax  ymax\n",
       "0  cats_000.jpg    cat    474     632   103    72   436   603\n",
       "1  cats_007.jpg  cat-1    474     266   301    37   460   265\n",
       "2  cats_050.jpg    cat    474     237   157    40   314   205\n",
       "3  cats_072.jpg  cat-2    474     266   187     1   474   266\n",
       "4  cats_076.jpg    cat    474     474    12     6   244   462\n",
       "5  cats_079.jpg    cat    474     266    78     1   474   266\n",
       "6  cats_088.jpg  cat-3    474     266   129     1   385   266\n",
       "7  cats_091.jpg    cat    474     316   156    13   328   316\n",
       "8  cats_099.jpg  cat-4    474     237   226     1   395   237\n",
       "9  cats_100.jpg    cat    474     266    40     1   420   266"
      ]
     },
     "execution_count": 4,
     "metadata": {},
     "output_type": "execute_result"
    }
   ],
   "source": [
    "df"
   ]
  },
  {
   "cell_type": "code",
   "execution_count": 6,
   "id": "d9cdfee4",
   "metadata": {},
   "outputs": [
    {
     "data": {
      "text/plain": [
       "dtype('O')"
      ]
     },
     "execution_count": 6,
     "metadata": {},
     "output_type": "execute_result"
    }
   ],
   "source": [
    "df['name'].dtype"
   ]
  },
  {
   "cell_type": "code",
   "execution_count": 7,
   "id": "ce80cba4",
   "metadata": {},
   "outputs": [],
   "source": [
    "\n",
    "dir = 'output2'\n",
    "if not (os.path.isdir(dir)):\n",
    "    os.mkdir(dir)\n",
    "\n",
    "\n",
    "for index, row in df.iterrows():\n",
    "    #if counter == 0:\n",
    "    #    continue\n",
    "    image_name = str(row['name'])\n",
    "    image_name = folder_path + \"\\\\\" + image_name\n",
    "    image_name = cv2.imread(image_name)\n",
    "    pt1 = (row['xmin'], row['ymin'])\n",
    "    pt2 = (row['xmax'], row['ymax'])\n",
    "    color = (0,255,0)\n",
    "    thickness = 3\n",
    "    output_img = cv2.rectangle(image_name, pt1, pt2, color, thickness)\n",
    "    output_img = cv2.putText(output_img, row['label'], (row['xmin'], row['ymin']-10), cv2.FONT_HERSHEY_SIMPLEX, 1,(0,0,0), 2)\n",
    "    name = \"final\" + row['name']\n",
    "    #counter = counter + 1\n",
    "    if output_img is not None:\n",
    "        cv2.imwrite(os.path.join(dir,name), output_img)\n",
    "    else:\n",
    "        continue\n",
    "        "
   ]
  },
  {
   "cell_type": "code",
   "execution_count": null,
   "id": "5ec030e7",
   "metadata": {},
   "outputs": [],
   "source": []
  }
 ],
 "metadata": {
  "kernelspec": {
   "display_name": "Python 3 (ipykernel)",
   "language": "python",
   "name": "python3"
  },
  "language_info": {
   "codemirror_mode": {
    "name": "ipython",
    "version": 3
   },
   "file_extension": ".py",
   "mimetype": "text/x-python",
   "name": "python",
   "nbconvert_exporter": "python",
   "pygments_lexer": "ipython3",
   "version": "3.9.7"
  }
 },
 "nbformat": 4,
 "nbformat_minor": 5
}
